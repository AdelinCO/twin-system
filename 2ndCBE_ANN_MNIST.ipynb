{
 "cells": [
  {
   "cell_type": "markdown",
   "id": "2286a1d0-e8ee-4224-b4e5-c82563fa3c4c",
   "metadata": {},
   "source": [
    "Dans ce premier code nous utilisons la méthode CaseBasedExplainer sur le dataset MNIST avec l'utilisation d'une méthode de calcul de poids qui est Occlusion et une metric de distance qui est euclidean."
   ]
  },
  {
   "cell_type": "code",
   "execution_count": 1,
   "id": "472b9b2a-8a68-4ba7-9b96-3ecda5cac7e6",
   "metadata": {},
   "outputs": [],
   "source": [
    "#2nd version :\n",
    "#affichage des kNN avec title du GT et du predict.\n",
    "#affichage, de l'attribution de l'image originale et des kNN\n",
    "#réorganisation de la fonction d'affichage"
   ]
  },
  {
   "cell_type": "code",
   "execution_count": 2,
   "id": "692cd149-4c8f-431b-8045-05536dce47e6",
   "metadata": {},
   "outputs": [],
   "source": [
    "import tensorflow as tf\n",
    "import tensorflow_datasets as tfds\n",
    "import numpy as np\n",
    "import matplotlib as mpl\n",
    "import matplotlib.pyplot as plt\n",
    "import math"
   ]
  },
  {
   "cell_type": "code",
   "execution_count": 3,
   "id": "92189981-07d0-4c4c-b837-9329178189e0",
   "metadata": {},
   "outputs": [],
   "source": [
    "Train = False"
   ]
  },
  {
   "cell_type": "markdown",
   "id": "d9a3fbf1-4395-45e8-9400-e863679b5cb8",
   "metadata": {
    "tags": []
   },
   "source": [
    "# Load dataset and model"
   ]
  },
  {
   "cell_type": "code",
   "execution_count": 4,
   "id": "066c7e34-2345-41c5-ac68-298c61ad5653",
   "metadata": {},
   "outputs": [],
   "source": [
    "(ds_test, ds_val, ds_train), ds_info = tfds.load(\n",
    "    'mnist',\n",
    "    split=['train[:10%]','train[10%:25%]','train[25%:]'],\n",
    "    shuffle_files=True,\n",
    "    as_supervised=True,\n",
    "    with_info=True,\n",
    ")\n",
    "def normalize_img(image, label):\n",
    "  \"\"\"Normalizes images: `uint8` -> `float32`.\"\"\"\n",
    "  return tf.cast(image, tf.float32) / 255., label\n",
    "\n",
    "ds_train = ds_train.map(\n",
    "    normalize_img)\n",
    "ds_test = ds_test.map(\n",
    "    normalize_img)\n",
    "ds_val = ds_val.map(\n",
    "    normalize_img)"
   ]
  },
  {
   "cell_type": "code",
   "execution_count": 5,
   "id": "ffa2e427-60bd-49e0-806c-1c837ed41994",
   "metadata": {},
   "outputs": [],
   "source": [
    "images_tr = [elem[0] for elem in ds_train.as_numpy_iterator()]\n",
    "labels = [elem[1] for elem in ds_train.as_numpy_iterator()]\n",
    "images_tr = np.stack(images_tr)\n",
    "labels = np.array(labels)"
   ]
  },
  {
   "cell_type": "code",
   "execution_count": 6,
   "id": "b7fbad44-df74-4284-9e9f-bbe0ac17660b",
   "metadata": {},
   "outputs": [],
   "source": [
    "model = tf.keras.models.load_model('../modelmnist')"
   ]
  },
  {
   "cell_type": "code",
   "execution_count": 7,
   "id": "34459430-b5be-4fe8-bb1a-6d5131d6599e",
   "metadata": {},
   "outputs": [],
   "source": [
    "if Train == True:\n",
    "    model.fit(\n",
    "    ds_train,\n",
    "    epochs=10,\n",
    "    validation_data=ds_val,\n",
    "    )"
   ]
  },
  {
   "cell_type": "code",
   "execution_count": 8,
   "id": "24e2fa66-79f1-4fb7-af02-973768cb5267",
   "metadata": {},
   "outputs": [],
   "source": [
    "image_list = [elem[0] for elem in ds_test.as_numpy_iterator()]\n",
    "labels_list = [elem[1] for elem in ds_test.as_numpy_iterator()]\n",
    "image_list = np.stack(image_list)\n",
    "labels_list = np.array(labels_list)"
   ]
  },
  {
   "cell_type": "markdown",
   "id": "3f8078d6-6338-4dfe-92b5-895060151d66",
   "metadata": {},
   "source": [
    "# Select of the input"
   ]
  },
  {
   "cell_type": "code",
   "execution_count": 9,
   "id": "cf2f58d0-de05-4c14-aa76-08be8714e1c7",
   "metadata": {},
   "outputs": [
    {
     "data": {
      "image/png": "[encoded data removed]",
      "text/plain": [
       "<Figure size 432x288 with 1 Axes>"
      ]
     },
     "metadata": {
      "needs_background": "light"
     },
     "output_type": "display_data"
    },
    {
     "data": {
      "image/png": "[encoded data removed]",
      "text/plain": [
       "<Figure size 432x288 with 1 Axes>"
      ]
     },
     "metadata": {
      "needs_background": "light"
     },
     "output_type": "display_data"
    },
    {
     "data": {
      "image/png": "[encoded data removed]",
      "text/plain": [
       "<Figure size 432x288 with 1 Axes>"
      ]
     },
     "metadata": {
      "needs_background": "light"
     },
     "output_type": "display_data"
    }
   ],
   "source": [
    "indice_input = 2\n",
    "inputs = image_list[indice_input]\n",
    "plt.imshow(inputs, cmap='gray')\n",
    "plt.show()\n",
    "\n",
    "inputs = np.expand_dims(inputs,0)\n",
    "targets = model.predict(inputs)\n",
    "strict_targets = (targets == np.max(targets)).astype(int)\n",
    "plt.imshow(targets, cmap='gray')\n",
    "plt.show()\n",
    "plt.imshow(strict_targets, cmap='gray')\n",
    "plt.show()"
   ]
  },
  {
   "cell_type": "markdown",
   "id": "967f808f-8001-420d-9c56-c4651240d3ca",
   "metadata": {},
   "source": [
    "# Import method"
   ]
  },
  {
   "cell_type": "code",
   "execution_count": 10,
   "id": "9ebf986b-8b42-4d95-a1fd-ffa6fbb08fd2",
   "metadata": {},
   "outputs": [],
   "source": [
    "#from CaseBasedExplainer.CaseBasedExplainer import CaseBasedExplainer\n",
    "from xplique.plots import plot_attributions\n",
    "from xplique.plots.image import _standardize_image\n",
    "from xplique.attributions import Occlusion\n",
    "from xplique.types import Callable, Tuple, Union, Optional\n",
    "from sklearn.neighbors import DistanceMetric\n",
    "from sklearn.neighbors import KDTree"
   ]
  },
  {
   "cell_type": "code",
   "execution_count": 14,
   "id": "da78cfc2-fa38-40fd-90d9-78baae85d76e",
   "metadata": {},
   "outputs": [],
   "source": [
    "class CaseBasedExplainer():\n",
    "    \"\"\"\n",
    "    Parameters\n",
    "    ----------\n",
    "    \n",
    "    model\n",
    "        The model from wich we want to obtain explanations\n",
    "    case_dataset\n",
    "        The dataset used to train the model\n",
    "    batch_size\n",
    "        Default = 16\n",
    "    distance_function\n",
    "        The function to calcul the distance between two point.\n",
    "        (Can use : euclidean, manhattan, minkowski etc...)\n",
    "    weights_extraction_function\n",
    "        The function to calcul the weight of every features, many type of methode can be use but it will depend of\n",
    "        what type of dataset you've got.\n",
    "    \"\"\"\n",
    "\n",
    "    def __init__(self,\n",
    "            model: Callable,\n",
    "            case_dataset: Union[tf.data.Dataset, tf.Tensor, np.ndarray],\n",
    "            batch_size: Optional[int] = 16,\n",
    "            distance_function: DistanceMetric = None,\n",
    "            weights_extraction_function: Callable = None):\n",
    "\n",
    "        self.model = model\n",
    "        self.batch_size = batch_size\n",
    "        self.case_dataset = case_dataset\n",
    "        self.weighted_extraction_function = weights_extraction_function\n",
    "        y_pred = model.predict(case_dataset)\n",
    "        case_dataset_weight = self.weighted_extraction_function(case_dataset, y_pred)\n",
    "        case_dataset_weight = np.expand_dims(case_dataset_weight, 3)\n",
    "        self.case_dataset_weight = case_dataset_weight\n",
    "        weighted_case_dataset = tf.math.multiply(case_dataset_weight, case_dataset)\n",
    "        weighted_case_dataset = tf.reshape(weighted_case_dataset, [weighted_case_dataset.shape[0], -1])\n",
    "        self.Knn = KDTree(weighted_case_dataset, metric = 'euclidean')\n",
    "\n",
    "    def explain(self,\n",
    "                inputs: Union[tf.Tensor, np.ndarray],\n",
    "                targets: Union[tf.Tensor, np.ndarray]= None,\n",
    "                k: int = 1,\n",
    "                indice_original: int = None,\n",
    "                labels_train: Optional[np.ndarray] = None,\n",
    "                labels_test: Optional[np.ndarray] = None,\n",
    "                show_result: Optional[bool]= True):\n",
    "        #inputs : img, tab , ts\n",
    "        #targets : [None, Tensor] (n, nb_classes)\n",
    "        \"\"\"\n",
    "        \n",
    "        Parameters\n",
    "        ----------\n",
    "        inputs\n",
    "            Tensor or Array. Input sapmples to be explained.\n",
    "            Expected shape among (N,T,W), (N,W,H,C).\n",
    "        \n",
    "        target\n",
    "            Tensor or Array. Corresponding to the prediction of the samples by the model.\n",
    "            \n",
    "        K\n",
    "            Represante how many nearest neighbours you want to be return.\n",
    "        \n",
    "        indice_original\n",
    "            Represante the number of the indice of the inputs to show the true labels\n",
    "        \n",
    "        labels_train\n",
    "            ...\n",
    "            \n",
    "        lables_test\n",
    "            ...\n",
    "        \n",
    "        show_result\n",
    "            Option to show or not tragets, input, and the K-nearest_neighbours.\n",
    "            \n",
    "        \n",
    "        Returns\n",
    "        -------\n",
    "        \n",
    "        dist\n",
    "            distance between the input and the k-nearest_neighbours, represented by a float.\n",
    "            \n",
    "        ind \n",
    "            The index of the k-nearest_neighbours in the dataset.\n",
    "        \n",
    "        \n",
    "        \"\"\"\n",
    "        # (n, H, W, D)\n",
    "        weight = self.weighted_extraction_function(inputs, targets)\n",
    "        weight = np.expand_dims(weight, 3)\n",
    "        weighted_inputs = tf.math.multiply(weight, inputs)\n",
    "        weighted_inputs = tf.reshape(weighted_inputs, [weighted_inputs.shape[0], -1])\n",
    "        dist , ind = self.Knn.query(weighted_inputs, k = k)\n",
    "        \n",
    "        ind =  np.unique(ind)\n",
    "        dist = np.unique(dist)\n",
    "        \n",
    "        def showResult():\n",
    "            explains = inputs\n",
    "            weight_tab = weight\n",
    "            for i in ind:\n",
    "                case_dataset = np.expand_dims(self.case_dataset[i],0)\n",
    "                case_dataset_weight = np.expand_dims(self.case_dataset_weight[i], 0)\n",
    "                explains = tf.concat([explains,case_dataset], axis = 0)\n",
    "                weight_tab = tf.concat([weight_tab, case_dataset_weight], axis = 0)\n",
    "            clip_percentile = 0.2\n",
    "            plt.rcParams[\"figure.autolayout\"] = True\n",
    "            plt.rcParams[\"figure.figsize\"] = [20, 6]\n",
    "            fig = plt.figure()\n",
    "            gs = fig.add_gridspec(2, len(explains)*2)\n",
    "            for j in  range(len(explains)):\n",
    "                ax = fig.add_subplot(gs[0,j])\n",
    "                pred_img = np.expand_dims(explains[j], 0)\n",
    "                pred_img = self.model.predict(pred_img)\n",
    "                pred_img = np.argmax(pred_img)\n",
    "                if j == 0:\n",
    "                    plt.title('Original image\\nGT: '+str(labels_test[indice_original])+'\\npredict: '+ str(pred_img))\n",
    "                else:\n",
    "                    plt.title('K-nearest neighbours\\nGT: '+str(labels_train[ind[j-1]])+'\\npredict: '+ str(pred_img))\n",
    "                plt.imshow(explains[j],cmap = 'gray')\n",
    "                plt.axis(\"off\")\n",
    "                ax2 = fig.add_subplot(gs[1,j])\n",
    "                plt.imshow(explains[j], cmap = \"gray\")\n",
    "                plt.imshow(_standardize_image(weight_tab[j], clip_percentile),cmap = \"coolwarm\", alpha = 0.5)\n",
    "                plt.axis(\"off\")\n",
    "            plt.show()\n",
    "            \n",
    "            return explains\n",
    "            \n",
    "        if show_result == True:\n",
    "            explaine = showResult()\n",
    "        \n",
    "        return dist, ind, weight\n"
   ]
  },
  {
   "cell_type": "markdown",
   "id": "0d6e7b02-6951-41c3-a47b-3dc4b91532a2",
   "metadata": {},
   "source": [
    "# Use of our method"
   ]
  },
  {
   "cell_type": "code",
   "execution_count": 16,
   "id": "5d4799c0-6c90-414b-9924-67ba92f46bd9",
   "metadata": {},
   "outputs": [
    {
     "name": "stderr",
     "output_type": "stream",
     "text": [
      "C:\\Users\\adelin.constans\\Anaconda3\\envs\\tfearly\\lib\\site-packages\\sklearn\\neighbors\\_distance_metric.py:10: FutureWarning: sklearn.neighbors.DistanceMetric has been moved to sklearn.metrics.DistanceMetric in 1.0. This import path will be removed in 1.3\n",
      "  warnings.warn(\n"
     ]
    }
   ],
   "source": [
    "weights_extraction_function = Occlusion(model,patch_size=(4, 4), patch_stride=(2, 2),batch_size=16, occlusion_value=0).explain\n",
    "distance_function = DistanceMetric.get_metric('euclidean')\n",
    "\n",
    "explainer = CaseBasedExplainer(model,\n",
    "                               images_tr[:150],\n",
    "                               distance_function = distance_function,\n",
    "                               weights_extraction_function = weights_extraction_function)"
   ]
  },
  {
   "cell_type": "code",
   "execution_count": 15,
   "id": "f126daee-647d-4e06-b922-771968d7fad4",
   "metadata": {},
   "outputs": [
    {
     "data": {
      "image/png": "[encoded data removed]",
      "text/plain": [
       "<Figure size 1440x432 with 14 Axes>"
      ]
     },
     "metadata": {
      "needs_background": "light"
     },
     "output_type": "display_data"
    },
    {
     "name": "stdout",
     "output_type": "stream",
     "text": [
      "[14 53 78 85 90 95]\n",
      "[2669.5165511  4448.48507454 4506.25936925 4572.68186365 4616.80550641\n",
      " 4982.98850527]\n"
     ]
    }
   ],
   "source": [
    "explanation_dist, explanation_id, weight = explainer.explain(inputs, targets,6,indice_input, labels, labels_list)\n",
    "print(explanation_id)\n",
    "print(explanation_dist)"
   ]
  },
  {
   "cell_type": "code",
   "execution_count": null,
   "id": "a6bce0ac-13b5-4e1c-a879-e60b46b61a91",
   "metadata": {},
   "outputs": [],
   "source": []
  }
 ],
 "metadata": {
  "kernelspec": {
   "display_name": "Python 3 (ipykernel)",
   "language": "python",
   "name": "python3"
  },
  "language_info": {
   "codemirror_mode": {
    "name": "ipython",
    "version": 3
   },
   "file_extension": ".py",
   "mimetype": "text/x-python",
   "name": "python",
   "nbconvert_exporter": "python",
   "pygments_lexer": "ipython3",
   "version": "3.9.12"
  }
 },
 "nbformat": 4,
 "nbformat_minor": 5
}
