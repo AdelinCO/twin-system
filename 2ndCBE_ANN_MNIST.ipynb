{
 "cells": [
  {
   "cell_type": "markdown",
   "id": "2286a1d0-e8ee-4224-b4e5-c82563fa3c4c",
   "metadata": {},
   "source": [
    "# 2nd version MNIST CBE-ANN"
   ]
  },
  {
   "cell_type": "code",
   "execution_count": 1,
   "id": "692cd149-4c8f-431b-8045-05536dce47e6",
   "metadata": {},
   "outputs": [],
   "source": [
    "import tensorflow as tf\n",
    "import tensorflow_datasets as tfds\n",
    "import numpy as np\n",
    "import matplotlib as mpl\n",
    "import matplotlib.pyplot as plt\n",
    "import math"
   ]
  },
  {
   "cell_type": "code",
   "execution_count": 2,
   "id": "92189981-07d0-4c4c-b837-9329178189e0",
   "metadata": {},
   "outputs": [],
   "source": [
    "Train = False"
   ]
  },
  {
   "cell_type": "markdown",
   "id": "d9a3fbf1-4395-45e8-9400-e863679b5cb8",
   "metadata": {
    "tags": []
   },
   "source": [
    "# Load dataset and model"
   ]
  },
  {
   "cell_type": "code",
   "execution_count": 3,
   "id": "066c7e34-2345-41c5-ac68-298c61ad5653",
   "metadata": {},
   "outputs": [],
   "source": [
    "(ds_test, ds_val, ds_train), ds_info = tfds.load(\n",
    "    'mnist',\n",
    "    split=['train[:10%]','train[10%:25%]','train[25%:]'],\n",
    "    shuffle_files=True,\n",
    "    as_supervised=True,\n",
    "    with_info=True,\n",
    ")\n",
    "\n",
    "def normalize_img(image, label):\n",
    "    # Normalizes images: `uint8` -> `float32`\n",
    "    return tf.cast(image, tf.float32) / 255., label\n",
    "\n",
    "# normalize dataset parts\n",
    "ds_train = ds_train.map(normalize_img)\n",
    "ds_test = ds_test.map(normalize_img)\n",
    "ds_val = ds_val.map(normalize_img)\n",
    "\n",
    "nb_classes = 10"
   ]
  },
  {
   "cell_type": "code",
   "execution_count": 4,
   "id": "b7fbad44-df74-4284-9e9f-bbe0ac17660b",
   "metadata": {},
   "outputs": [],
   "source": [
    "model = tf.keras.models.load_model('../modelmnist')"
   ]
  },
  {
   "cell_type": "code",
   "execution_count": 5,
   "id": "34459430-b5be-4fe8-bb1a-6d5131d6599e",
   "metadata": {},
   "outputs": [],
   "source": [
    "if Train == True:\n",
    "    model.fit(\n",
    "    ds_train,\n",
    "    epochs=10,\n",
    "    validation_data=ds_val,\n",
    "    )"
   ]
  },
  {
   "cell_type": "code",
   "execution_count": 6,
   "id": "737d530c-5718-436e-8e31-86dbdeed45ce",
   "metadata": {},
   "outputs": [],
   "source": [
    "images_tr = [elem[0] for elem in ds_train.as_numpy_iterator()]\n",
    "labels = [elem[1] for elem in ds_train.as_numpy_iterator()]\n",
    "images_tr = np.stack(images_tr[:150])\n",
    "labels = np.array(labels)\n",
    "\n",
    "image_list = [elem[0] for elem in ds_test.as_numpy_iterator()]\n",
    "labels_list = [elem[1] for elem in ds_test.as_numpy_iterator()]\n",
    "image_list = np.stack(image_list)\n",
    "labels_list = np.array(labels_list)\n",
    "\n",
    "targets_train = model.predict(images_tr)\n",
    "reduced_targets_train = targets_train[:150]"
   ]
  },
  {
   "cell_type": "code",
   "execution_count": 7,
   "id": "db812673-d80d-4177-908c-612e73d9ebe6",
   "metadata": {},
   "outputs": [
    {
     "name": "stdout",
     "output_type": "stream",
     "text": [
      "(150, 28, 28, 1)\n",
      "(150, 10)\n"
     ]
    }
   ],
   "source": [
    "print(images_tr.shape)\n",
    "print(targets_train.shape)"
   ]
  },
  {
   "cell_type": "markdown",
   "id": "3f8078d6-6338-4dfe-92b5-895060151d66",
   "metadata": {},
   "source": [
    "# Select input"
   ]
  },
  {
   "cell_type": "code",
   "execution_count": 8,
   "id": "cf2f58d0-de05-4c14-aa76-08be8714e1c7",
   "metadata": {},
   "outputs": [
    {
     "name": "stdout",
     "output_type": "stream",
     "text": [
      "[0, 1, 2]\n",
      "(3, 28, 28, 1)\n",
      "(3, 10)\n"
     ]
    },
    {
     "data": {
      "image/png": "[encoded data removed]",
      "text/plain": [
       "<Figure size 432x288 with 1 Axes>"
      ]
     },
     "metadata": {
      "needs_background": "light"
     },
     "output_type": "display_data"
    },
    {
     "name": "stdout",
     "output_type": "stream",
     "text": [
      "(3, 10)\n"
     ]
    },
    {
     "data": {
      "image/png": "[encoded data removed]",
      "text/plain": [
       "<Figure size 432x288 with 1 Axes>"
      ]
     },
     "metadata": {
      "needs_background": "light"
     },
     "output_type": "display_data"
    },
    {
     "data": {
      "image/png": "[encoded data removed]",
      "text/plain": [
       "<Figure size 432x288 with 1 Axes>"
      ]
     },
     "metadata": {
      "needs_background": "light"
     },
     "output_type": "display_data"
    }
   ],
   "source": [
    "\"\"\"indice_input = 9\n",
    "inputs = image_list[indice_input]\n",
    "\n",
    "plt.imshow(inputs, cmap='gray')\n",
    "plt.show()\n",
    "\n",
    "inputs = np.expand_dims(inputs,0)\n",
    "targets = model.predict(inputs)\n",
    "strict_targets = (targets == np.max(targets)).astype(int)\n",
    "plt.imshow(targets, cmap='gray')\n",
    "plt.show()\n",
    "plt.imshow(strict_targets, cmap='gray')\n",
    "plt.show()\"\"\"\n",
    "\n",
    "\n",
    "\n",
    "nb_inputs = 3\n",
    "indice_input = 0\n",
    "inputs = image_list[indice_input:(indice_input + nb_inputs)]\n",
    "indice_originale = []\n",
    "for i in range(nb_inputs):\n",
    "    indice_originale.append(indice_input + i)\n",
    "print(indice_originale)\n",
    "\n",
    "# inputs = image_list[indice_input]\n",
    "# inputs = np.expand_dims(inputs,0)\n",
    "# indice_originale = [indice_input]\n",
    "print(inputs.shape)\n",
    "targets = model.predict(inputs)\n",
    "print(targets.shape)\n",
    "plt.imshow(tf.expand_dims(targets[0], 0), cmap='gray')\n",
    "plt.show()\n",
    "# strict_targets = []\n",
    "# for i in targets:\n",
    "#     stri_target = (i == np.max(i)).astype(int)\n",
    "#     strict_targets.append(stri_target)\n",
    "    \n",
    "###########\n",
    "strict_targets = model(inputs)\n",
    "strict_targets = tf.argmax(strict_targets, axis=1)\n",
    "strict_targets = tf.one_hot(strict_targets, nb_classes)\n",
    "print(strict_targets.shape)\n",
    "\n",
    "#print(np.asarray(strict_targets).shape)\n",
    "plt.imshow(tf.expand_dims(strict_targets[0], 0), cmap='gray')\n",
    "plt.show()\n",
    "\n",
    "plt.imshow(inputs[0], cmap = 'gray')\n",
    "plt.show()"
   ]
  },
  {
   "cell_type": "markdown",
   "id": "967f808f-8001-420d-9c56-c4651240d3ca",
   "metadata": {},
   "source": [
    "# Import method"
   ]
  },
  {
   "cell_type": "code",
   "execution_count": 9,
   "id": "9ebf986b-8b42-4d95-a1fd-ffa6fbb08fd2",
   "metadata": {},
   "outputs": [],
   "source": [
    "#from CaseBasedExplainer import CaseBasedExplainer\n",
    "from xplique.plots import plot_attributions\n",
    "from xplique.plots.image import _standardize_image\n",
    "from xplique.attributions import Occlusion\n",
    "from xplique.types import Callable, Tuple, Union, Optional\n",
    "from sklearn.neighbors import DistanceMetric\n",
    "from sklearn.neighbors import KDTree"
   ]
  },
  {
   "cell_type": "code",
   "execution_count": 18,
   "id": "da78cfc2-fa38-40fd-90d9-78baae85d76e",
   "metadata": {},
   "outputs": [],
   "source": [
    "class CaseBasedExplainer():\n",
    "    \"\"\"\n",
    "    TODO\n",
    "    \n",
    "    Used to compute the Case Based Explainer sytem, a twins sytem that use ANN and KNN with\n",
    "    the same dataset.\n",
    "    \n",
    "    Ref. Twin-Systems to Explain Artificial Neural Networks using Case-Based Reasoning:\n",
    "            Comparative Tests of Feature-Weighting Methods in ANN-CBR Twins for XAI.\n",
    "            Eoin M. Kenny and Mark T. Keane.\n",
    "            \n",
    "    \"\"\"\n",
    "\n",
    "    def __init__(self,\n",
    "                 model: Callable,\n",
    "                 case_dataset: Union[tf.data.Dataset, tf.Tensor, np.ndarray],\n",
    "                 labels_train: np.ndarray,\n",
    "                 targets: Optional[Union[tf.Tensor, np.ndarray]] = None,\n",
    "                 batch_size: Optional[int] = 16,\n",
    "                 distance_function: DistanceMetric = None,\n",
    "                 weights_extraction_function: Callable = None,\n",
    "                 k: Optional[int] = 3):\n",
    "        \"\"\"\n",
    "        Parameters\n",
    "        ----------\n",
    "\n",
    "        model\n",
    "            The model from wich we want to obtain explanations\n",
    "        case_dataset\n",
    "            The dataset used to train the model, also use by the function to calcul the closest examples.\n",
    "        targets\n",
    "            labels predict by the model from the dataset\n",
    "        batch_size\n",
    "            Number of pertubed samples to explain at once.\n",
    "            Default = 16\n",
    "        distance_function\n",
    "            The function to calcul the distance between the inputs and all the dataset.\n",
    "            (Can use : euclidean, manhattan, minkowski etc...)\n",
    "        weights_extraction_function\n",
    "            The function to calcul the weight of every features, many type of methode can be use but it will depend of\n",
    "            what type of dataset you've got.\n",
    "            examples:\n",
    "                def my_function(inputs, targets):\n",
    "                    # outputs.shape == inputs.shape\n",
    "                    return outputs\n",
    "        k\n",
    "            Represante how many nearest neighbours you want to be return.\n",
    "        \"\"\"\n",
    "        # set attributes\n",
    "        self.model = model\n",
    "        self.batch_size = batch_size\n",
    "        self.case_dataset = case_dataset\n",
    "        self.weights_extraction_function = weights_extraction_function\n",
    "        self.k_neighbors = k\n",
    "        self.labels_train = labels\n",
    "        \n",
    "        # have to put targets.all() if you put an argument to the function\n",
    "        if targets is None:\n",
    "            targets = model(case_dataset)\n",
    "            targets = tf.argmax(targets, axis=1)\n",
    "            targets = tf.one_hot(targets, nb_classes)\n",
    "            \n",
    "        # compute case dataset weights (used in distance)\n",
    "        # the weight extraction function may need the predictions to extract the weights\n",
    "        case_dataset_weight = self.weights_extraction_function(case_dataset, targets)\n",
    "        case_dataset_weight = tf.expand_dims(case_dataset_weight, 3)\n",
    "        self.case_dataset_weight = case_dataset_weight\n",
    "\n",
    "        # apply weights to the case dataset (weighted distance)\n",
    "        weighted_case_dataset = tf.math.multiply(case_dataset_weight, case_dataset)\n",
    "        # flatten features for kdtree\n",
    "        weighted_case_dataset = tf.reshape(weighted_case_dataset, [weighted_case_dataset.shape[0], -1])\n",
    "\n",
    "        # create kdtree instance with weighted case dataset\n",
    "        # will be called to estimate closest examples\n",
    "        self.Knn = KDTree(weighted_case_dataset, metric = 'euclidean')\n",
    "        print(weighted_case_dataset.shape)\n",
    "\n",
    "        \n",
    "    def extract_element_from_indices(self,\n",
    "                                     inputs: Union[tf.Tensor, np.ndarray],\n",
    "                                     labels_train: np.ndarray,\n",
    "                                     examples_indice: np.ndarray):\n",
    "        all_examples = []\n",
    "        all_weight_examples = []\n",
    "        for sample_examples_indice in examples_indice:\n",
    "            sample_examples = []\n",
    "            weight_ex = []\n",
    "            for indice in sample_examples_indice:\n",
    "                sample_examples.append(self.case_dataset[indice])\n",
    "                weight_ex.append(self.case_dataset_weight[indice])\n",
    "            # (k, h, w, 1)\n",
    "            all_examples.append(tf.stack(sample_examples, axis=0))\n",
    "            all_weight_examples.append(tf.stack(weight_ex, axis=0))\n",
    "        # (n, k, h, w, 1)\n",
    "        examples = tf.stack(all_examples, axis=0)\n",
    "        weights_examples = tf.stack(all_weight_examples, axis=0)\n",
    "\n",
    "        return examples, weights_examples\n",
    "        \n",
    "        \n",
    "    def explain(self,\n",
    "                inputs: Union[tf.Tensor, np.ndarray],\n",
    "                targets: Union[tf.Tensor, np.ndarray] = None):\n",
    "        \"\"\"\n",
    "        Parameters\n",
    "        ----------\n",
    "        inputs\n",
    "            Tensor or Array. Input samples to be explained.\n",
    "            Expected shape among (N,T,W), (N,W,H,C).\n",
    "        targets\n",
    "            Tensor or Array. Corresponding to the prediction of the samples by the model.\n",
    "            shape: (n, nb_classes)\n",
    "            Used by the `weights_extraction_function` if it is an Xplique attribution function,\n",
    "            For more details, please refer to the explain methods documentation   \n",
    "            \n",
    "        Returns\n",
    "        -------\n",
    "        examples \n",
    "            Represente the K nearust neighbours of the input.\n",
    "        distance\n",
    "            distance between the input and the examples.\n",
    "        weight\n",
    "            features weight of the inputs\n",
    "        \"\"\"\n",
    "        # have to put targets.all() if you put an argument to the function\n",
    "        if targets is None:\n",
    "            targets = self.model(inputs)\n",
    "            targets = tf.argmax(targets, axis=1)\n",
    "            targets = tf.one_hot(targets, nb_classes)\n",
    "    \n",
    "        # compute weight (used in distance)\n",
    "        # the weight extraction function may need the prediction to extract the weights\n",
    "        inputs_weights = self.weights_extraction_function(inputs, targets)\n",
    "        if inputs_weights.shape != inputs.shape:\n",
    "            inputs_weights = tf.reshape(inputs_weights, inputs.shape)\n",
    "        # weights = tf.expand_dims(weights, 3)\n",
    "        \n",
    "        # apply weights to the inputs\n",
    "        weighted_inputs = tf.math.multiply(inputs_weights, inputs)\n",
    "        # flatten features for knn query\n",
    "        weighted_inputs = tf.reshape(weighted_inputs, [weighted_inputs.shape[0], -1])\n",
    "        \n",
    "        # kdtree instance call with knn.query,\n",
    "        # call with the weighted inputs and the number of closest examples (k)\n",
    "        examples_distance, examples_indice = self.Knn.query(weighted_inputs, k = self.k_neighbors)\n",
    "      \n",
    "        # call the extract_element_from_indices function    \n",
    "        examples, examples_weights = self.extract_element_from_indices(inputs, self.labels_train, examples_indice)\n",
    "            \n",
    "        return examples, examples_distance, examples_weights, inputs_weights\n",
    "\n",
    "    def show_Result(self,\n",
    "                    inputs: Union[tf.Tensor, np.ndarray],\n",
    "                    examples: Union[tf.Tensor, np.ndarray],\n",
    "                    dist: float,\n",
    "                    inputs_weights: np.ndarray,\n",
    "                    weights_examples: np.ndarray,\n",
    "                    indice_original: int,\n",
    "                    labels_train: np.ndarray,\n",
    "                    labels_test: np.ndarray,\n",
    "                    clip_percentile: Optional[float] = 0.2,\n",
    "                    cmapimages: Optional[str] = \"gray\",\n",
    "                    cmapexplanation: Optional[str] = \"coolwarm\",\n",
    "                    alpha: Optional[float] = 0.5):\n",
    "        \"\"\"\n",
    "        Parameters\n",
    "        ---------\n",
    "        inputs\n",
    "            Tensor or Array. Input samples to be show next to examples.\n",
    "            Expected shape among (N,T,W), (N,W,H,C).\n",
    "        distance\n",
    "            Distance between input data and examples.    \n",
    "        weight\n",
    "            features weight of the inputs \n",
    "        indice_original\n",
    "            Represente the indice of the inputs to show the true labels\n",
    "        labels_train\n",
    "            Corresponding to the train labels dataset   \n",
    "        labels_test\n",
    "            Corresponding to the test labels dataset\n",
    "        clip_percentile\n",
    "            Percentile value to use if clipping is needed, e.g a value of 1 will perform a clipping\n",
    "            between percentile 1 and 99. This parameter allows to avoid outliers  in case of too extreme values.\n",
    "        cmapimages\n",
    "            For images.\n",
    "            The Colormap instance or registered colormap name used to map scalar data to colors.\n",
    "            This parameter is ignored for RGB(A) data.\n",
    "        cmapexplanation\n",
    "            For explanation.\n",
    "            The Colormap instance or registered colormap name used to map scalar data to colors.\n",
    "            This parameter is ignored for RGB(A) data.\n",
    "        alpha\n",
    "            The alpha blending value, between 0 (transparent) and 1 (opaque).\n",
    "            If alpha is an array, the alpha blending values are applied pixel by pixel, \n",
    "            and alpha must have the same shape as X.\n",
    "        \"\"\" \n",
    "        \n",
    "        # for a, b, c in zip(as, bs, cs):\n",
    "        #     show_one_result\n",
    "        \n",
    "        # Initialize 'input_and_examples' and 'corresponding_weights' that they\n",
    "        # will be use to show every closest examples and the explanation\n",
    "        inputs = tf.expand_dims(inputs, 1)\n",
    "        inputs_weights = tf.expand_dims(inputs_weights, 1)        \n",
    "        input_and_examples = tf.concat([inputs, examples], axis=1)\n",
    "        corresponding_weights = tf.concat([inputs_weights, weights_examples], axis=1)\n",
    "\n",
    "        # calcul the prediction of input and examples \n",
    "        # that they will be used at title of the image\n",
    "        # nevessary loop becaue we have n * k elements\n",
    "        predicted_labels = []\n",
    "        for samples in input_and_examples:\n",
    "            predicted = self.model(samples)\n",
    "            predicted = tf.argmax(predicted, axis=1)\n",
    "            predicted_labels.append(predicted)\n",
    "            \n",
    "        # configure the grid to show all results\n",
    "        plt.rcParams[\"figure.autolayout\"] = True\n",
    "        plt.rcParams[\"figure.figsize\"] = [20, 10]\n",
    "        \n",
    "        \n",
    "        #loop to organize and show all results\n",
    "        for j in range(np.asarray(input_and_examples).shape[0]):\n",
    "            fig = plt.figure()\n",
    "            gs = fig.add_gridspec(2, self.k_neighbors + 1)\n",
    "            #gs = fig.add_gridspec(len(input_and_examples) * 10, len(input_and_examples) * 10)\n",
    "            for k in range(len(input_and_examples[j])):\n",
    "                ax = fig.add_subplot(gs[0, k])\n",
    "                if k == 0:\n",
    "                    plt.title(f'Original image\\nGround Truth: {labels_test[indice_original[j]]}\\nPredict: {predicted_labels[j][k]}')\n",
    "                else:\n",
    "                    #plt.title(f'K-nearest neighbours\\nGround Truth: {labels_train[self.examples_indice[j-1]]}\\nPredict: {predicted_labels[j]}')\n",
    "                    plt.title(f'K-nearest neighbours\\nPredict: {predicted_labels[j][k]}')\n",
    "                plt.imshow(input_and_examples[j][k], cmap = cmapimages)\n",
    "                plt.axis(\"off\")\n",
    "                ax2 = fig.add_subplot(gs[1, k])\n",
    "                plt.imshow(input_and_examples[j][k], cmap = cmapimages)\n",
    "                plt.imshow(_standardize_image(corresponding_weights[j][k], clip_percentile), cmap = cmapexplanation, alpha = alpha)\n",
    "                plt.axis(\"off\")\n",
    "            plt.show()\n"
   ]
  },
  {
   "cell_type": "markdown",
   "id": "0d6e7b02-6951-41c3-a47b-3dc4b91532a2",
   "metadata": {},
   "source": [
    "# Use the method"
   ]
  },
  {
   "cell_type": "code",
   "execution_count": 15,
   "id": "5d4799c0-6c90-414b-9924-67ba92f46bd9",
   "metadata": {},
   "outputs": [
    {
     "name": "stderr",
     "output_type": "stream",
     "text": [
      "C:\\Users\\adelin.constans\\Anaconda3\\envs\\tfearly\\lib\\site-packages\\sklearn\\neighbors\\_distance_metric.py:10: FutureWarning: sklearn.neighbors.DistanceMetric has been moved to sklearn.metrics.DistanceMetric in 1.0. This import path will be removed in 1.3\n",
      "  warnings.warn(\n"
     ]
    },
    {
     "name": "stdout",
     "output_type": "stream",
     "text": [
      "(150, 784)\n"
     ]
    }
   ],
   "source": [
    "weights_extraction_function = Occlusion(model,patch_size=(4, 4), patch_stride=(2, 2),batch_size=16, occlusion_value=0).explain\n",
    "distance_function = DistanceMetric.get_metric('euclidean')\n",
    "\n",
    "explainer = CaseBasedExplainer(model,\n",
    "                               images_tr,\n",
    "                               labels,\n",
    "                               distance_function = distance_function,\n",
    "                               weights_extraction_function = weights_extraction_function,\n",
    "                               k = 5)"
   ]
  },
  {
   "cell_type": "code",
   "execution_count": 16,
   "id": "f126daee-647d-4e06-b922-771968d7fad4",
   "metadata": {},
   "outputs": [
    {
     "name": "stdout",
     "output_type": "stream",
     "text": [
      "(3, 5, 28, 28, 1)\n",
      "[[ 60.2632823   78.65513946 107.79598252 115.0870272  115.62735476]\n",
      " [ 87.28600954  96.04026695  97.34682675 100.19603002 102.71786404]\n",
      " [ 75.46155815  80.25201092  94.96323363  97.30008008  98.2044569 ]]\n",
      "(3, 5, 28, 28, 1)\n",
      "(3, 28, 28, 1)\n"
     ]
    }
   ],
   "source": [
    "examples, examples_distance, examples_weights, inputs_weights = explainer.explain(inputs)\n",
    "print(np.asarray(examples).shape)\n",
    "print(examples_distance)\n",
    "print(np.asarray(examples_weights).shape)\n",
    "print(np.asarray(inputs_weights).shape)"
   ]
  },
  {
   "cell_type": "markdown",
   "id": "ab78cd7c-2e3b-4e83-b19f-b9c4f2b5e8a4",
   "metadata": {},
   "source": [
    "# Show Result"
   ]
  },
  {
   "cell_type": "code",
   "execution_count": 17,
   "id": "a6bce0ac-13b5-4e1c-a879-e60b46b61a91",
   "metadata": {},
   "outputs": [
    {
     "data": {
      "image/png": "[encoded data removed]",
      "text/plain": [
       "<Figure size 1440x720 with 12 Axes>"
      ]
     },
     "metadata": {
      "needs_background": "light"
     },
     "output_type": "display_data"
    },
    {
     "data": {
      "image/png": "[encoded data removed]",
      "text/plain": [
       "<Figure size 1440x720 with 12 Axes>"
      ]
     },
     "metadata": {
      "needs_background": "light"
     },
     "output_type": "display_data"
    },
    {
     "data": {
      "image/png": "[encoded data removed]",
      "text/plain": [
       "<Figure size 1440x720 with 12 Axes>"
      ]
     },
     "metadata": {
      "needs_background": "light"
     },
     "output_type": "display_data"
    }
   ],
   "source": [
    "explainer.show_Result(inputs, examples, examples_distance, inputs_weights, examples_weights, indice_originale, labels, labels_list) "
   ]
  },
  {
   "cell_type": "code",
   "execution_count": 14,
   "id": "34eeb444-5794-415f-b22e-fecc061715b7",
   "metadata": {},
   "outputs": [
    {
     "ename": "SyntaxError",
     "evalue": "invalid syntax (1419875376.py, line 1)",
     "output_type": "error",
     "traceback": [
      "\u001b[1;36m  Input \u001b[1;32mIn [14]\u001b[1;36m\u001b[0m\n\u001b[1;33m    explain:\u001b[0m\n\u001b[1;37m            ^\u001b[0m\n\u001b[1;31mSyntaxError\u001b[0m\u001b[1;31m:\u001b[0m invalid syntax\n"
     ]
    }
   ],
   "source": [
    "explain:\n",
    "    # compute indices\n",
    "    examples, show_kwargs = self.extract_elements_from_indices(indices, ...)\n",
    "    return examples, show_kwargs\n",
    "\n",
    "extract_elements_from_indices(indices):\n",
    "    show_kwargs = {\n",
    "        \"a\": a,\n",
    "        \"w\": w,\n",
    "    }\n",
    "    return examples, show_kwargs\n",
    "\n",
    "show_result(x, ex, a, w):\n",
    "    ...\n",
    "\n",
    "ex, kwargs = explain(x, y)\n",
    "show_result(x, ex, **kwargs)\n",
    "\n",
    "ex, _ = explain()"
   ]
  },
  {
   "cell_type": "code",
   "execution_count": null,
   "id": "06f2610c-08a1-44bd-a539-d72ea74203fb",
   "metadata": {},
   "outputs": [],
   "source": [
    " "
   ]
  }
 ],
 "metadata": {
  "kernelspec": {
   "display_name": "Python 3 (ipykernel)",
   "language": "python",
   "name": "python3"
  },
  "language_info": {
   "codemirror_mode": {
    "name": "ipython",
    "version": 3
   },
   "file_extension": ".py",
   "mimetype": "text/x-python",
   "name": "python",
   "nbconvert_exporter": "python",
   "pygments_lexer": "ipython3",
   "version": "3.9.12"
  }
 },
 "nbformat": 4,
 "nbformat_minor": 5
}
