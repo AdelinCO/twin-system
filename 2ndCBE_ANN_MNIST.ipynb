{
 "cells": [
  {
   "cell_type": "markdown",
   "id": "2286a1d0-e8ee-4224-b4e5-c82563fa3c4c",
   "metadata": {},
   "source": [
    "# 2nd version MNIST CBE-ANN"
   ]
  },
  {
   "cell_type": "code",
   "execution_count": 1,
   "id": "692cd149-4c8f-431b-8045-05536dce47e6",
   "metadata": {},
   "outputs": [],
   "source": [
    "import tensorflow as tf\n",
    "import tensorflow_datasets as tfds\n",
    "import numpy as np\n",
    "import matplotlib as mpl\n",
    "import matplotlib.pyplot as plt\n",
    "import math"
   ]
  },
  {
   "cell_type": "code",
   "execution_count": 2,
   "id": "92189981-07d0-4c4c-b837-9329178189e0",
   "metadata": {},
   "outputs": [],
   "source": [
    "Train = False"
   ]
  },
  {
   "cell_type": "markdown",
   "id": "d9a3fbf1-4395-45e8-9400-e863679b5cb8",
   "metadata": {
    "tags": []
   },
   "source": [
    "# Load dataset and model"
   ]
  },
  {
   "cell_type": "code",
   "execution_count": 3,
   "id": "066c7e34-2345-41c5-ac68-298c61ad5653",
   "metadata": {},
   "outputs": [],
   "source": [
    "(ds_test, ds_val, ds_train), ds_info = tfds.load(\n",
    "    'mnist',\n",
    "    split=['train[:10%]','train[10%:25%]','train[25%:]'],\n",
    "    shuffle_files=True,\n",
    "    as_supervised=True,\n",
    "    with_info=True,\n",
    ")\n",
    "\n",
    "def normalize_img(image, label):\n",
    "    # Normalizes images: `uint8` -> `float32`\n",
    "    return tf.cast(image, tf.float32) / 255., label\n",
    "\n",
    "# normalize dataset parts\n",
    "ds_train = ds_train.map(normalize_img)\n",
    "ds_test = ds_test.map(normalize_img)\n",
    "ds_val = ds_val.map(normalize_img)"
   ]
  },
  {
   "cell_type": "code",
   "execution_count": 4,
   "id": "b7fbad44-df74-4284-9e9f-bbe0ac17660b",
   "metadata": {},
   "outputs": [],
   "source": [
    "model = tf.keras.models.load_model('../modelmnist')"
   ]
  },
  {
   "cell_type": "code",
   "execution_count": 5,
   "id": "34459430-b5be-4fe8-bb1a-6d5131d6599e",
   "metadata": {},
   "outputs": [],
   "source": [
    "if Train == True:\n",
    "    model.fit(\n",
    "    ds_train,\n",
    "    epochs=10,\n",
    "    validation_data=ds_val,\n",
    "    )"
   ]
  },
  {
   "cell_type": "code",
   "execution_count": 6,
   "id": "737d530c-5718-436e-8e31-86dbdeed45ce",
   "metadata": {},
   "outputs": [],
   "source": [
    "images_tr = [elem[0] for elem in ds_train.as_numpy_iterator()]\n",
    "labels = [elem[1] for elem in ds_train.as_numpy_iterator()]\n",
    "images_tr = np.stack(images_tr[:150])\n",
    "labels = np.array(labels)\n",
    "\n",
    "image_list = [elem[0] for elem in ds_test.as_numpy_iterator()]\n",
    "labels_list = [elem[1] for elem in ds_test.as_numpy_iterator()]\n",
    "image_list = np.stack(image_list)\n",
    "labels_list = np.array(labels_list)\n",
    "\n",
    "targets_train = model.predict(images_tr)\n",
    "reduced_targets_train = targets_train[:150]"
   ]
  },
  {
   "cell_type": "code",
   "execution_count": 7,
   "id": "db812673-d80d-4177-908c-612e73d9ebe6",
   "metadata": {},
   "outputs": [
    {
     "name": "stdout",
     "output_type": "stream",
     "text": [
      "(150, 28, 28, 1)\n",
      "(150, 10)\n"
     ]
    }
   ],
   "source": [
    "print(images_tr.shape)\n",
    "print(targets_train.shape)"
   ]
  },
  {
   "cell_type": "markdown",
   "id": "3f8078d6-6338-4dfe-92b5-895060151d66",
   "metadata": {},
   "source": [
    "# Select input"
   ]
  },
  {
   "cell_type": "code",
   "execution_count": 43,
   "id": "cf2f58d0-de05-4c14-aa76-08be8714e1c7",
   "metadata": {},
   "outputs": [
    {
     "data": {
      "image/png": "[encoded data removed]",
      "text/plain": [
       "<Figure size 1800x432 with 1 Axes>"
      ]
     },
     "metadata": {
      "needs_background": "light"
     },
     "output_type": "display_data"
    },
    {
     "data": {
      "image/png": "[encoded data removed]",
      "text/plain": [
       "<Figure size 1800x432 with 1 Axes>"
      ]
     },
     "metadata": {
      "needs_background": "light"
     },
     "output_type": "display_data"
    },
    {
     "data": {
      "image/png": "[encoded data removed]",
      "text/plain": [
       "<Figure size 1800x432 with 1 Axes>"
      ]
     },
     "metadata": {
      "needs_background": "light"
     },
     "output_type": "display_data"
    }
   ],
   "source": [
    "indice_input = 9\n",
    "inputs = image_list[indice_input]\n",
    "\n",
    "plt.imshow(inputs, cmap='gray')\n",
    "plt.show()\n",
    "\n",
    "inputs = np.expand_dims(inputs,0)\n",
    "targets = model.predict(inputs)\n",
    "strict_targets = (targets == np.max(targets)).astype(int)\n",
    "plt.imshow(targets, cmap='gray')\n",
    "plt.show()\n",
    "plt.imshow(strict_targets, cmap='gray')\n",
    "plt.show()"
   ]
  },
  {
   "cell_type": "markdown",
   "id": "967f808f-8001-420d-9c56-c4651240d3ca",
   "metadata": {},
   "source": [
    "# Import method"
   ]
  },
  {
   "cell_type": "code",
   "execution_count": 44,
   "id": "9ebf986b-8b42-4d95-a1fd-ffa6fbb08fd2",
   "metadata": {},
   "outputs": [],
   "source": [
    "#from CaseBasedExplainer import CaseBasedExplainer\n",
    "from xplique.plots import plot_attributions\n",
    "from xplique.plots.image import _standardize_image\n",
    "from xplique.attributions import Occlusion\n",
    "from xplique.types import Callable, Tuple, Union, Optional\n",
    "from sklearn.neighbors import DistanceMetric\n",
    "from sklearn.neighbors import KDTree"
   ]
  },
  {
   "cell_type": "code",
   "execution_count": 53,
   "id": "da78cfc2-fa38-40fd-90d9-78baae85d76e",
   "metadata": {},
   "outputs": [],
   "source": [
    "class CaseBasedExplainer():\n",
    "    \"\"\"\n",
    "    TODO\n",
    "    \n",
    "    Used to compute the Case Based Explainer sytem, a twins sytem that use ANN and KNN with\n",
    "    the same dataset.\n",
    "    \n",
    "    Ref. Twin-Systems to Explain Artificial Neural Networks using Case-Based Reasoning:\n",
    "            Comparative Tests of Feature-Weighting Methods in ANN-CBR Twins for XAI.\n",
    "            Eoin M. Kenny and Mark T. Keane.\n",
    "            \n",
    "    \"\"\"\n",
    "\n",
    "    def __init__(self,\n",
    "                 model: Callable,\n",
    "                 case_dataset: Union[tf.data.Dataset, tf.Tensor, np.ndarray],\n",
    "                 targets: Union[tf.Tensor, np.ndarray],\n",
    "                 batch_size: Optional[int] = 16,\n",
    "                 distance_function: DistanceMetric = None,\n",
    "                 weights_extraction_function: Callable = None,\n",
    "                 k: Optional[int] = 3):\n",
    "        \"\"\"\n",
    "        Parameters\n",
    "        ----------\n",
    "\n",
    "        model\n",
    "            The model from wich we want to obtain explanations\n",
    "        case_dataset\n",
    "            The dataset used to train the model, also use by the function to calcul the closest examples.\n",
    "        targets\n",
    "            labels predict by the model from the dataset\n",
    "        batch_size\n",
    "            Number of pertubed samples to explain at once.\n",
    "            Default = 16\n",
    "        distance_function\n",
    "            The function to calcul the distance between the inputs and all the dataset.\n",
    "            (Can use : euclidean, manhattan, minkowski etc...)\n",
    "        weights_extraction_function\n",
    "            The function to calcul the weight of every features, many type of methode can be use but it will depend of\n",
    "            what type of dataset you've got.\n",
    "        k\n",
    "            Represante how many nearest neighbours you want to be return.\n",
    "        \"\"\"\n",
    "        # set attributes\n",
    "        self.model = model\n",
    "        self.batch_size = batch_size\n",
    "        self.case_dataset = case_dataset\n",
    "        self.weights_extraction_function = weights_extraction_function\n",
    "        self.k = k\n",
    "        \n",
    "        # compute case dataset weights (used in distance)\n",
    "        # the weight extraction function may need the prediction to extract the weights\n",
    "        case_dataset_weight = self.weights_extraction_function(case_dataset, targets)\n",
    "        case_dataset_weight = np.expand_dims(case_dataset_weight, 3)\n",
    "        self.case_dataset_weight = case_dataset_weight\n",
    "\n",
    "        # apply weights to the case dataset\n",
    "        weighted_case_dataset = tf.math.multiply(case_dataset_weight, case_dataset)\n",
    "        # flatten features for kdtree\n",
    "        weighted_case_dataset = tf.reshape(weighted_case_dataset, [weighted_case_dataset.shape[0], -1])\n",
    "\n",
    "        # create kdtree instance with weighted case dataset\n",
    "        # will be called to estimate closest examples\n",
    "        self.Knn = KDTree(weighted_case_dataset, metric = 'euclidean')\n",
    "\n",
    "    def explain(self,\n",
    "                inputs: Union[tf.Tensor, np.ndarray],\n",
    "                targets: Union[tf.Tensor, np.ndarray] = None):\n",
    "        \"\"\"\n",
    "        Parameters\n",
    "        ----------\n",
    "        inputs\n",
    "            Tensor or Array. Input samples to be explained.\n",
    "            Expected shape among (N,T,W), (N,W,H,C).\n",
    "        targets\n",
    "            Tensor or Array. Corresponding to the prediction of the samples by the model.\n",
    "            shape: (n, nb_classes)\n",
    "            Used by the `weights_extraction_function` if it is an Xplique attribution function,\n",
    "            For more details, please refer to the explain methods documentation   \n",
    "            \n",
    "        Returns\n",
    "        -------\n",
    "        examples \n",
    "            Represente the K nearust neighbours of the input.\n",
    "        distance\n",
    "            distance between the input and the examples.\n",
    "        weight\n",
    "            features weight of the inputs\n",
    "        \"\"\"\n",
    "        # compute weight (used in distance)\n",
    "        # the weight extraction function may need the prediction to extract the weights\n",
    "        weights = self.weights_extraction_function(inputs, targets)\n",
    "        weights = np.expand_dims(weights, 3)\n",
    "        \n",
    "        # apply weights to the inputs\n",
    "        weighted_inputs = tf.math.multiply(weights, inputs)\n",
    "        # flatten features for knn query\n",
    "        weighted_inputs = tf.reshape(weighted_inputs, [weighted_inputs.shape[0], -1])\n",
    "        \n",
    "        # kdtree instance call with knn.query,\n",
    "        # call with the weighted inputs and the number of closest examples (k)\n",
    "        examples_distance , examples_indice = self.Knn.query(weighted_inputs, k = self.k)\n",
    "        \n",
    "        # extraction of the examples by their indice\n",
    "        self.examples_indice = examples_indice[0]\n",
    "        examples = []\n",
    "        for i in self.examples_indice:\n",
    "            examples.append(self.case_dataset[i])\n",
    "        \n",
    "        # TODO\n",
    "        examples_distance = examples_distance[0]\n",
    "        \n",
    "        return examples, examples_distance, weights\n",
    "    \n",
    "    \n",
    "    def showResult(self,\n",
    "                   inputs: Union[tf.Tensor, np.ndarray],\n",
    "                   dist: float,\n",
    "                   weight: np.ndarray,\n",
    "                   indice_original: int,\n",
    "                   labels_train: np.ndarray,\n",
    "                   labels_test: np.ndarray,\n",
    "                   clip_percentile: Optional[float] = 0.2,\n",
    "                   cmapimages: Optional[str] = \"gray\",\n",
    "                   cmapexplanation: Optional[str] = \"coolwarm\",\n",
    "                   alpha: Optional[float] = 0.5):\n",
    "        \"\"\"\n",
    "        Parameters\n",
    "        ---------\n",
    "        inputs\n",
    "            Tensor or Array. Input samples to be show next to examples.\n",
    "            Expected shape among (N,T,W), (N,W,H,C).\n",
    "        distance\n",
    "            Distance between input data and examples.    \n",
    "        weight\n",
    "            features weight of the inputs \n",
    "        indice_original\n",
    "            Represente the indice of the inputs to show the true labels\n",
    "        labels_train\n",
    "            Corresponding to the train labels dataset   \n",
    "        labels_test\n",
    "            Corresponding to the test labels dataset\n",
    "        clip_percentile\n",
    "            Percentile value to use if clipping is needed, e.g a value of 1 will perform a clipping\n",
    "            between percentile 1 and 99. This parameter allows to avoid outliers  in case of too extreme values.\n",
    "        cmapimages\n",
    "            For images.\n",
    "            The Colormap instance or registered colormap name used to map scalar data to colors.\n",
    "            This parameter is ignored for RGB(A) data.\n",
    "        cmapexplanation\n",
    "            For explanation.\n",
    "            The Colormap instance or registered colormap name used to map scalar data to colors.\n",
    "            This parameter is ignored for RGB(A) data.\n",
    "        alpha\n",
    "            The alpha blending value, between 0 (transparent) and 1 (opaque).\n",
    "            If alpha is an array, the alpha blending values are applied pixel by pixel, \n",
    "            and alpha must have the same shape as X.\n",
    "        \"\"\" \n",
    "        \n",
    "        # Initialize 'input_and_examples' and 'corresponding_weights' that they\n",
    "        # will be use to show every closest examples and the explanation\n",
    "        input_and_examples = [inputs]\n",
    "        corresponding_weights = [weight]\n",
    "        # list creation of the examples and weights\n",
    "        for i in self.examples_indice:\n",
    "            example = tf.expand_dims(self.case_dataset[i], 0)\n",
    "            example_weights = tf.expand_dims(self.case_dataset_weight[i], 0)\n",
    "            input_and_examples.append(example)\n",
    "            corresponding_weights.append(example_weights)\n",
    "        # concatanation of those list\n",
    "        input_and_examples = tf.concat(input_and_examples, axis = 0)\n",
    "        corresponding_weights = tf.concat(corresponding_weights, axis = 0)\n",
    "        \n",
    "        # calcul the prediction of input and examples \n",
    "        # that they will be used at title of the image\n",
    "        predictions = self.model.predict(input_and_examples)\n",
    "        predicted_labels = tf.argmax(predictions, axis = 1)\n",
    "\n",
    "        # configure the grid to show all results\n",
    "        plt.rcParams[\"figure.autolayout\"] = True\n",
    "        plt.rcParams[\"figure.figsize\"] = [25, 6]\n",
    "        fig = plt.figure()\n",
    "        gs = fig.add_gridspec(2, len(input_and_examples) * 2)\n",
    "        \n",
    "        # loop to organize and show all results\n",
    "        for j in  range(len(input_and_examples)):\n",
    "            ax = fig.add_subplot(gs[0, j])\n",
    "            if j == 0:\n",
    "                plt.title(f'Original image\\nGround Truth: {labels_test[indice_original]}\\nPredict: {predicted_labels[j]}')\n",
    "            else:\n",
    "                plt.title(f'K-nearest neighbours\\nGround Truth: {labels_train[self.examples_indice[j-1]]}\\nPredict: {predicted_labels[j]}')\n",
    "            plt.imshow(input_and_examples[j], cmap = cmapimages)\n",
    "            plt.axis(\"off\")\n",
    "            ax2 = fig.add_subplot(gs[1, j])\n",
    "            plt.imshow(input_and_examples[j], cmap = cmapimages)\n",
    "            plt.imshow(_standardize_image(corresponding_weights[j], clip_percentile), cmap = cmapexplanation, alpha = alpha)\n",
    "            plt.axis(\"off\")\n",
    "        plt.show()\n"
   ]
  },
  {
   "cell_type": "markdown",
   "id": "0d6e7b02-6951-41c3-a47b-3dc4b91532a2",
   "metadata": {},
   "source": [
    "# Use the method"
   ]
  },
  {
   "cell_type": "code",
   "execution_count": 50,
   "id": "5d4799c0-6c90-414b-9924-67ba92f46bd9",
   "metadata": {},
   "outputs": [
    {
     "name": "stderr",
     "output_type": "stream",
     "text": [
      "C:\\Users\\adelin.constans\\Anaconda3\\envs\\tfearly\\lib\\site-packages\\sklearn\\neighbors\\_distance_metric.py:10: FutureWarning: sklearn.neighbors.DistanceMetric has been moved to sklearn.metrics.DistanceMetric in 1.0. This import path will be removed in 1.3\n",
      "  warnings.warn(\n"
     ]
    }
   ],
   "source": [
    "weights_extraction_function = Occlusion(model,patch_size=(4, 4), patch_stride=(2, 2),batch_size=16, occlusion_value=0).explain\n",
    "distance_function = DistanceMetric.get_metric('euclidean')\n",
    "\n",
    "explainer = CaseBasedExplainer(model,\n",
    "                               images_tr,\n",
    "                               targets_train,\n",
    "                               distance_function = distance_function,\n",
    "                               weights_extraction_function = weights_extraction_function,\n",
    "                               k = 5)"
   ]
  },
  {
   "cell_type": "code",
   "execution_count": 51,
   "id": "f126daee-647d-4e06-b922-771968d7fad4",
   "metadata": {},
   "outputs": [
    {
     "name": "stdout",
     "output_type": "stream",
     "text": [
      "[3441.4978926  4474.52990829 4584.44950864 4849.74051815 5178.3730759 ]\n"
     ]
    }
   ],
   "source": [
    "examples, examples_dist, weight = explainer.explain(inputs, targets)\n",
    "#print(examples)\n",
    "print(examples_dist)\n",
    "#print(weight)"
   ]
  },
  {
   "cell_type": "markdown",
   "id": "ab78cd7c-2e3b-4e83-b19f-b9c4f2b5e8a4",
   "metadata": {},
   "source": [
    "# Show Result"
   ]
  },
  {
   "cell_type": "code",
   "execution_count": 52,
   "id": "a6bce0ac-13b5-4e1c-a879-e60b46b61a91",
   "metadata": {},
   "outputs": [
    {
     "data": {
      "image/png": "[encoded data removed]",
      "text/plain": [
       "<Figure size 1800x432 with 12 Axes>"
      ]
     },
     "metadata": {
      "needs_background": "light"
     },
     "output_type": "display_data"
    }
   ],
   "source": [
    "explainer.showResult(inputs, examples_dist, weight, indice_input, labels, labels_list) "
   ]
  },
  {
   "cell_type": "code",
   "execution_count": null,
   "id": "34eeb444-5794-415f-b22e-fecc061715b7",
   "metadata": {},
   "outputs": [],
   "source": []
  },
  {
   "cell_type": "code",
   "execution_count": null,
   "id": "06f2610c-08a1-44bd-a539-d72ea74203fb",
   "metadata": {},
   "outputs": [],
   "source": []
  }
 ],
 "metadata": {
  "kernelspec": {
   "display_name": "Python 3 (ipykernel)",
   "language": "python",
   "name": "python3"
  },
  "language_info": {
   "codemirror_mode": {
    "name": "ipython",
    "version": 3
   },
   "file_extension": ".py",
   "mimetype": "text/x-python",
   "name": "python",
   "nbconvert_exporter": "python",
   "pygments_lexer": "ipython3",
   "version": "3.9.12"
  }
 },
 "nbformat": 4,
 "nbformat_minor": 5
}
