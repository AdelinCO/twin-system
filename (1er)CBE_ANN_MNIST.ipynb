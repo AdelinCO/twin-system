{
 "cells": [
  {
   "cell_type": "markdown",
   "id": "2286a1d0-e8ee-4224-b4e5-c82563fa3c4c",
   "metadata": {},
   "source": [
    "Dans ce premier code nous utilisons la méthode CaseBasedExplainer sur le dataset MNIST avec l'utilisation d'une méthode de calcul de poids qui est Occlusion et une metric de distance qui est euclidean."
   ]
  },
  {
   "cell_type": "code",
   "execution_count": 1,
   "id": "692cd149-4c8f-431b-8045-05536dce47e6",
   "metadata": {},
   "outputs": [],
   "source": [
    "import tensorflow as tf\n",
    "import tensorflow_datasets as tfds\n",
    "import numpy as np\n",
    "import matplotlib as mpl\n",
    "import matplotlib.pyplot as plt"
   ]
  },
  {
   "cell_type": "code",
   "execution_count": 2,
   "id": "92189981-07d0-4c4c-b837-9329178189e0",
   "metadata": {},
   "outputs": [],
   "source": [
    "Train = False"
   ]
  },
  {
   "cell_type": "markdown",
   "id": "d9a3fbf1-4395-45e8-9400-e863679b5cb8",
   "metadata": {},
   "source": [
    "Préparation du dataset et des données qui vont être utilisé dans notre méthode"
   ]
  },
  {
   "cell_type": "code",
   "execution_count": 3,
   "id": "066c7e34-2345-41c5-ac68-298c61ad5653",
   "metadata": {},
   "outputs": [],
   "source": [
    "(ds_test, ds_val, ds_train), ds_info = tfds.load(\n",
    "    'mnist',\n",
    "    split=['train[:10%]','train[10%:25%]','train[25%:]'],\n",
    "    shuffle_files=True,\n",
    "    as_supervised=True,\n",
    "    with_info=True,\n",
    ")\n",
    "def normalize_img(image, label):\n",
    "  \"\"\"Normalizes images: `uint8` -> `float32`.\"\"\"\n",
    "  return tf.cast(image, tf.float32) / 255., label\n",
    "\n",
    "ds_train = ds_train.map(\n",
    "    normalize_img)\n",
    "ds_test = ds_test.map(\n",
    "    normalize_img)\n",
    "ds_val = ds_val.map(\n",
    "    normalize_img)"
   ]
  },
  {
   "cell_type": "code",
   "execution_count": 4,
   "id": "ffa2e427-60bd-49e0-806c-1c837ed41994",
   "metadata": {},
   "outputs": [],
   "source": [
    "images_tr = [elem[0] for elem in ds_train.as_numpy_iterator()]\n",
    "labels = [elem[1] for elem in ds_train.as_numpy_iterator()]\n",
    "#print(len(images_tr), len(labels), images_tr[0].shape)"
   ]
  },
  {
   "cell_type": "code",
   "execution_count": 5,
   "id": "f86ae110-33b4-4529-8cc0-ff13356e4292",
   "metadata": {},
   "outputs": [
    {
     "name": "stdout",
     "output_type": "stream",
     "text": [
      "(45000,)\n"
     ]
    }
   ],
   "source": [
    "images_tr = np.stack(images_tr)\n",
    "labels = np.array(labels)\n",
    "print(labels.shape)"
   ]
  },
  {
   "cell_type": "code",
   "execution_count": 6,
   "id": "b7fbad44-df74-4284-9e9f-bbe0ac17660b",
   "metadata": {},
   "outputs": [],
   "source": [
    "model = tf.keras.models.load_model('./modelmnist')"
   ]
  },
  {
   "cell_type": "code",
   "execution_count": 7,
   "id": "34459430-b5be-4fe8-bb1a-6d5131d6599e",
   "metadata": {},
   "outputs": [],
   "source": [
    "if Train == True:\n",
    "    model.fit(\n",
    "    ds_train,\n",
    "    epochs=10,\n",
    "    validation_data=ds_val,\n",
    "    )"
   ]
  },
  {
   "cell_type": "code",
   "execution_count": 8,
   "id": "24e2fa66-79f1-4fb7-af02-973768cb5267",
   "metadata": {},
   "outputs": [
    {
     "name": "stdout",
     "output_type": "stream",
     "text": [
      "[4 1 7 ... 5 7 3]\n"
     ]
    }
   ],
   "source": [
    "image_list = [elem[0] for elem in ds_test.as_numpy_iterator()]\n",
    "labels_list = [elem[1] for elem in ds_test.as_numpy_iterator()]\n",
    "#print(len(image_list), len(labels_list))\n",
    "image_list = np.stack(image_list)\n",
    "labels_list = np.array(labels_list)\n",
    "print(labels_list)"
   ]
  },
  {
   "cell_type": "code",
   "execution_count": 9,
   "id": "cf2f58d0-de05-4c14-aa76-08be8714e1c7",
   "metadata": {},
   "outputs": [
    {
     "data": {
      "image/png": "[encoded data removed]",
      "text/plain": [
       "<Figure size 432x288 with 1 Axes>"
      ]
     },
     "metadata": {
      "needs_background": "light"
     },
     "output_type": "display_data"
    },
    {
     "name": "stdout",
     "output_type": "stream",
     "text": [
      "(1, 28, 28, 1)\n"
     ]
    },
    {
     "data": {
      "image/png": "[encoded data removed]",
      "text/plain": [
       "<Figure size 432x288 with 1 Axes>"
      ]
     },
     "metadata": {
      "needs_background": "light"
     },
     "output_type": "display_data"
    },
    {
     "data": {
      "image/png": "[encoded data removed]",
      "text/plain": [
       "<Figure size 432x288 with 1 Axes>"
      ]
     },
     "metadata": {
      "needs_background": "light"
     },
     "output_type": "display_data"
    }
   ],
   "source": [
    "indice_input = 26\n",
    "inputs = image_list[indice_input]\n",
    "#plt.title('images que l\\'on va tester')\n",
    "plt.imshow(inputs, cmap='gray')\n",
    "plt.show()\n",
    "\n",
    "inputs = np.expand_dims(inputs,0)\n",
    "print(inputs.shape)\n",
    "targets = model.predict(inputs)\n",
    "strict_targets = (targets == np.max(targets)).astype(int)\n",
    "#print(targets)\n",
    "plt.imshow(targets, cmap='gray')\n",
    "plt.show()\n",
    "\n",
    "plt.imshow(strict_targets, cmap='gray')\n",
    "plt.show()\n",
    "\n",
    "\n",
    "#print(targets)\n",
    "#print(inputs.shape)"
   ]
  },
  {
   "cell_type": "markdown",
   "id": "967f808f-8001-420d-9c56-c4651240d3ca",
   "metadata": {},
   "source": [
    "Importation de notre méthode et instanciation de cell-ci."
   ]
  },
  {
   "cell_type": "code",
   "execution_count": 10,
   "id": "9ebf986b-8b42-4d95-a1fd-ffa6fbb08fd2",
   "metadata": {},
   "outputs": [],
   "source": [
    "#from CaseBasedExplainer.CaseBasedExplainer import CaseBasedExplainer\n",
    "from xplique.plots import plot_attributions\n",
    "from xplique.attributions import Occlusion\n",
    "from sklearn.neighbors import DistanceMetric\n",
    "from xplique.types import Callable, Tuple, Union, Optional\n",
    "from sklearn.neighbors import DistanceMetric\n",
    "from sklearn.neighbors import KDTree"
   ]
  },
  {
   "cell_type": "code",
   "execution_count": 17,
   "id": "40794dd6-a08a-4e24-8c59-49bcc3d7ae4f",
   "metadata": {},
   "outputs": [],
   "source": [
    "class CaseBasedExplainer():\n",
    "    \"\"\"\n",
    "    Parameters\n",
    "    ----------\n",
    "    \n",
    "    model\n",
    "        The model from wich we want to obtain explanations\n",
    "    case_dataset\n",
    "        The dataset used to train the model\n",
    "    batch_size\n",
    "        Default = 16\n",
    "    distance_function\n",
    "        The function to calcul the distance between two point.\n",
    "        (Can use : euclidean, manhattan, minkowski etc...)\n",
    "    weights_extraction_function\n",
    "        The function to calcul the weight of every features, many type of methode can be use but it will depend of\n",
    "        what type of dataset you've got.\n",
    "    \"\"\"\n",
    "\n",
    "    def __init__(self,\n",
    "            model: Callable,\n",
    "            case_dataset: Union[tf.data.Dataset, tf.Tensor, np.ndarray],\n",
    "            batch_size: Optional[int] = 16,\n",
    "            distance_function: DistanceMetric = None,\n",
    "            weights_extraction_function: Callable = None):\n",
    "\n",
    "        self.model = model\n",
    "        self.batch_size = batch_size\n",
    "        self.case_dataset = case_dataset\n",
    "        self.weighted_extraction_function = weights_extraction_function\n",
    "        y_pred = model.predict(case_dataset)\n",
    "        #print(y_pred.shape)\n",
    "        #print(case_dataset.shape)\n",
    "        case_dataset_weight = self.weighted_extraction_function(case_dataset, y_pred)\n",
    "        #print(case_dataset_weight.shape)\n",
    "        case_dataset_weight = np.expand_dims(case_dataset_weight, 3)\n",
    "        #print(case_dataset_weight.shape)\n",
    "        self.case_dataset_weight = case_dataset_weight\n",
    "        #case_dataset = tf.reshape(case_dataset, [-1])\n",
    "        #print(case_dataset.shape)\n",
    "        #print(case_dataset_weight.shape)\n",
    "        weighted_case_dataset = tf.math.multiply(case_dataset_weight, case_dataset)\n",
    "        weighted_case_dataset = tf.reshape(weighted_case_dataset, [weighted_case_dataset.shape[0], -1])\n",
    "        print(weighted_case_dataset.shape)\n",
    "        self.Knn = KDTree(weighted_case_dataset, metric = 'euclidean')\n",
    "        #plot_attributions( case_dataset_weight, case_dataset, img_size=5, cmap='cividis', cols=1, alpha=0.6)\n",
    "\n",
    "    def explain(self,\n",
    "                inputs: Union[tf.Tensor, np.ndarray],\n",
    "                targets: Union[tf.Tensor, np.ndarray]= None,\n",
    "                k: int = 1,\n",
    "                indice_original: int = None,\n",
    "                labels_train: Optional[np.ndarray] = None,\n",
    "                labels_test: Optional[np.ndarray] = None,\n",
    "                show_result: Optional[bool]= True):\n",
    "        #inputs : img, tab , ts\n",
    "        #targets : [None, Tensor] (n, nb_classes)\n",
    "        \"\"\"\n",
    "        \n",
    "        Parameters\n",
    "        ----------\n",
    "        inputs\n",
    "            Tensor or Array. Input sapmples to be explained.\n",
    "            Expected shape among (N,T,W), (N,W,H,C).\n",
    "        \n",
    "        target\n",
    "            Tensor or Array. Corresponding to the prediction of the samples by the model.\n",
    "            \n",
    "        K\n",
    "            Represante how many nearest neighbours you want to be return.\n",
    "        \n",
    "        indice_original\n",
    "            Represante the number of the indice of the inputs to show the true labels\n",
    "        \n",
    "        labels_train\n",
    "            ...\n",
    "            \n",
    "        lables_test\n",
    "            ...\n",
    "        \n",
    "        show_result\n",
    "            Option to show or not tragets, input, and the K-nearest_neighbours.\n",
    "            \n",
    "        \n",
    "        Returns\n",
    "        -------\n",
    "        \n",
    "        dist\n",
    "            distance between the input and the k-nearest_neighbours, represented by a float.\n",
    "            \n",
    "        ind \n",
    "            The index of the k-nearest_neighbours in the dataset.\n",
    "        \n",
    "        \n",
    "        \"\"\"\n",
    "        # (n, H, W, D)\n",
    "        weight = self.weighted_extraction_function(inputs, targets)\n",
    "        #print(weight.shape)\n",
    "        inputs = tf.reshape(inputs,[inputs.shape[2], -1])\n",
    "        #print(inputs.shape)\n",
    "        weighted_inputs = tf.math.multiply(weight, inputs)\n",
    "        #print(weighted_inputs.shape)\n",
    "        weighted_inputs = tf.reshape(weighted_inputs, [weighted_inputs.shape[0], -1])\n",
    "        inputs = np.expand_dims(inputs,0)\n",
    "        #print(inputs.shape)\n",
    "        #weighted_inputs = tf.reshape(weighted_inputs, [-1])\n",
    "        #weighted_inputs = np.expand_dims(weighted_inputs, 1)\n",
    "        #print(weighted_inputs.shape)\n",
    "\n",
    "        dist , ind = self.Knn.query(weighted_inputs, k = k)\n",
    "        \n",
    "        ind =  np.unique(ind)\n",
    "        dist = np.unique(dist)\n",
    "        original = tf.squeeze(inputs) \n",
    "        \n",
    "        def showResult():\n",
    "            explains = []\n",
    "            weight_tab = []\n",
    "            t_weight = tf.reshape(weight, [weight.shape[1], weight.shape[2]])\n",
    "            print(t_weight.shape)\n",
    "            weight_tab.append(t_weight)\n",
    "            explains.append(original)\n",
    "            case_dataset_weight = self.case_dataset_weight\n",
    "            #case_dataset_weight = tf.reshape(case_dataset_weight, [case_dataset_weight.shape[0],case_dataset_weight.shape[1],case_dataset_weight.shape[2]])\n",
    "            print(np.asarray(case_dataset_weight).shape)\n",
    "            plt.rcParams[\"figure.autolayout\"] = True\n",
    "            plt.rcParams[\"figure.figsize\"] = [20, 6]\n",
    "            for i in ind:\n",
    "                #case_dataset_weight[i] = tf.reshape(case_dataset_weight[i], [case_dataset_weight[i].shape[1], -1])\n",
    "                #print(case_dataset_weight[i].shape)\n",
    "                explains.append(self.case_dataset[i].reshape([28,28]))\n",
    "                weight_tab.append(self.case_dataset_weight[i])\n",
    "            for j in range(len(weight_tab)):\n",
    "                #if j == 0:\n",
    "                    #weight_tab[j] = tf.reshape(weight_tab[j], [-1, weight_tab[j].shape[1]])\n",
    "                #else:\n",
    "                if j > 0:\n",
    "                    weight_tab[j] = tf.reshape(weight_tab[j], [weight_tab[j].shape[0], weight_tab[j].shape[1]])\n",
    "                    #weight_tab[j] = np.expand_dims(weight_tab[j], 0)\n",
    "                    #weight_tab[j] = tf.reshape(weight_tab[j], [weight_tab[j].shape[0], weight_tab[j].shape[2],weight_tab[j].shape[3]])\n",
    "            #weigth_tab = tf.reshape(weight_tab, [np.asarray(weight_tab).shape[0],np.asarray(weight_tab).shape[2],np.asarray(weight_tab).shape[3] ])\n",
    "            print(np.asarray(weight_tab).shape)\n",
    "            print(np.asarray(explains).shape)\n",
    "            fig = plt.figure()\n",
    "            gs = fig.add_gridspec(2, len(explains)*2)\n",
    "            for i in range(2):    \n",
    "                for j in  range(len(explains)):\n",
    "                    if i == 0:\n",
    "                        ax = fig.add_subplot(gs[i,j])\n",
    "                        plt.imshow(explains[j], cmap = 'gray')\n",
    "                        plt.axis('off')\n",
    "                        if j == 0:\n",
    "                            pred_img = np.expand_dims(explains[j],2)\n",
    "                            pred_img = np.expand_dims(pred_img,0)\n",
    "                            #print(pred_img.shape)\n",
    "                            pred_img = self.model.predict(pred_img)\n",
    "                            pred_img = np.argmax(pred_img) # valeur des labels predit\n",
    "                            #print(indice_original)\n",
    "                            #print(labels_test[indice_original])\n",
    "                            plt.title('Original image\\nGT: '+str(labels_test[indice_original])+'\\npredict: '+ str(pred_img), fontsize = 16)\n",
    "                        else:\n",
    "                            pred_img = np.expand_dims(explains[j],2)\n",
    "                            pred_img = np.expand_dims(pred_img,0)\n",
    "                            #print(pred_img.shape)\n",
    "                            pred_img = self.model.predict(pred_img)\n",
    "                            pred_img = np.argmax(pred_img) # valeur des labels predit\n",
    "                            plt.title('K-nearest neighbours\\nGT: '+str(labels_train[ind[j-1]])+'\\npredict: '+ str(pred_img), fontsize = 16)\n",
    "                            #print(explains[j].shape)\n",
    "                    else:\n",
    "                            #img = explains[j]\n",
    "                            #weights = weight_tab[j]\n",
    "                            #print(img.shape)\n",
    "                            #print(weights.shape)\n",
    "                            #weights = tf.reshape(weights, [weights.shape[1], -1])\n",
    "                            #print(img.shape)\n",
    "                            #print(weights.shape)\n",
    "                            if j ==1:\n",
    "                                weight_tab = np.asarray(weight_tab)\n",
    "                                plot_attributions(weight_tab, explains, cmap='cividis', cols=1, alpha=0.6)\n",
    "\n",
    "                '''print(labels_test[indice_original]) # valeur du label de l'image original\n",
    "                pred_img = np.expand_dims(explains[j],2)\n",
    "                pred_img = np.expand_dims(pred_img,0)\n",
    "                #print(pred_img.shape)\n",
    "                pred_img = self.model.predict(pred_img)\n",
    "                pred_img = np.argmax(pred_img) # valeur des labels predit\n",
    "                print(pred_img)\n",
    "                print(labels_train[ind[j-1]])'''\n",
    "                '''else:\n",
    "                        plt.xticks([0,1,2,3,4,5,6,7,8,9])\n",
    "                        plt.yticks([])\n",
    "                        if j == 0:\n",
    "                            \n",
    "                            labl = []\n",
    "                            for k in range(10):\n",
    "                                if k == labels_test[indice_original]:\n",
    "                                    labl.append(1)\n",
    "                                else:\n",
    "                                    labl.append(0)\n",
    "                            labl = np.expand_dims(labl,1)\n",
    "                            labl = np.expand_dims(labl,0)\n",
    "                            plt.title(\"True label\", fontsize = 16)\n",
    "                            plt.imshow(labl, cmap ='gray')\n",
    "                        else:\n",
    "                            labl2 = []\n",
    "                            \n",
    "                            for k in range(10):\n",
    "                                if k == labels_train[ind[j-1]]:\n",
    "                                    labl2.append(1)\n",
    "                                else:\n",
    "                                    labl2.append(0)\n",
    "                            labl2 = np.expand_dims(labl2,1)\n",
    "                            labl2 = np.expand_dims(labl2,0)\n",
    "                            plt.title(\"True label\", fontsize = 16)\n",
    "                            plt.imshow(labl2, cmap ='gray')   '''      \n",
    "            plt.show()\n",
    "            return explains\n",
    "        if show_result == True:\n",
    "            explaine = showResult()\n",
    "        \n",
    "        return dist, ind, weight"
   ]
  },
  {
   "cell_type": "code",
   "execution_count": 18,
   "id": "5d4799c0-6c90-414b-9924-67ba92f46bd9",
   "metadata": {},
   "outputs": [
    {
     "name": "stderr",
     "output_type": "stream",
     "text": [
      "C:\\Users\\adelin.constans\\Anaconda3\\envs\\tfearly\\lib\\site-packages\\sklearn\\neighbors\\_distance_metric.py:10: FutureWarning: sklearn.neighbors.DistanceMetric has been moved to sklearn.metrics.DistanceMetric in 1.0. This import path will be removed in 1.3\n",
      "  warnings.warn(\n"
     ]
    },
    {
     "name": "stdout",
     "output_type": "stream",
     "text": [
      "(150, 784)\n"
     ]
    }
   ],
   "source": [
    "'''explainer = CaseBasedExplainer(model,\n",
    "                               images_tr[:100],\n",
    "                               distance_function = DistanceMetric.get_metric('euclidean'),\n",
    "                               weights_extraction_function = lambda inputs, targets: tf.ones(images_tr[:100].shape))'''\n",
    "\n",
    "weights_extraction_function = Occlusion(model,patch_size=(4, 4), patch_stride=(2, 2),batch_size=16, occlusion_value=0).explain\n",
    "distance_function = DistanceMetric.get_metric('euclidean')\n",
    "\n",
    "explainer = CaseBasedExplainer(model,\n",
    "                               images_tr[:150],\n",
    "                               distance_function = distance_function,\n",
    "                               weights_extraction_function = weights_extraction_function)"
   ]
  },
  {
   "cell_type": "markdown",
   "id": "ef01da1b-bc91-413b-b385-648e61e505b2",
   "metadata": {},
   "source": [
    "Utilisation de la partie explain de notre méthode pour la vérification de la prédiction de notre model."
   ]
  },
  {
   "cell_type": "code",
   "execution_count": 19,
   "id": "f126daee-647d-4e06-b922-771968d7fad4",
   "metadata": {},
   "outputs": [
    {
     "name": "stdout",
     "output_type": "stream",
     "text": [
      "(28, 28)\n",
      "(150, 28, 28, 1)\n",
      "(4, 28, 28)\n",
      "(4, 28, 28)\n"
     ]
    },
    {
     "data": {
      "image/png": "[encoded data removed]",
      "text/plain": [
       "<Figure size 1440x432 with 4 Axes>"
      ]
     },
     "metadata": {
      "needs_background": "light"
     },
     "output_type": "display_data"
    },
    {
     "data": {
      "image/png": "[encoded data removed]",
      "text/plain": [
       "<Figure size 187.2x684 with 4 Axes>"
      ]
     },
     "metadata": {
      "needs_background": "light"
     },
     "output_type": "display_data"
    }
   ],
   "source": [
    "explanation_dist, explanation_id, weight = explainer.explain(inputs, targets,3,indice_input, labels, labels_list)\n",
    "#_,_,_ = explainer.explain(inputs, strict_targets,3,indice_input, labels, labels_list)\n",
    "#print(explanation_id)"
   ]
  },
  {
   "cell_type": "code",
   "execution_count": null,
   "id": "c266d062-b692-407e-82c9-8b2543e9c64f",
   "metadata": {},
   "outputs": [],
   "source": []
  },
  {
   "cell_type": "code",
   "execution_count": null,
   "id": "6eb8e4b1-571e-49a1-8369-33bba8865bad",
   "metadata": {},
   "outputs": [],
   "source": []
  },
  {
   "cell_type": "code",
   "execution_count": null,
   "id": "9435fc1f-64a9-4ccb-ab2c-ef5404ce4c0b",
   "metadata": {},
   "outputs": [],
   "source": []
  },
  {
   "cell_type": "code",
   "execution_count": null,
   "id": "579772fb-31bc-4eb9-9f79-905286cf4d8b",
   "metadata": {},
   "outputs": [],
   "source": [
    "plot_attributions(weight, inputs, img_size=5, cmap='cividis', cols=1, alpha=0.6)"
   ]
  },
  {
   "cell_type": "code",
   "execution_count": null,
   "id": "6380a402-2cc7-4a23-81ea-9b96f5045574",
   "metadata": {},
   "outputs": [],
   "source": []
  },
  {
   "cell_type": "code",
   "execution_count": null,
   "id": "f27ba792-bcbf-416b-800f-9bf759fe4ee5",
   "metadata": {},
   "outputs": [],
   "source": []
  },
  {
   "cell_type": "code",
   "execution_count": null,
   "id": "3204d3c5-cff8-41e3-b14f-12d5361952e5",
   "metadata": {},
   "outputs": [],
   "source": []
  }
 ],
 "metadata": {
  "kernelspec": {
   "display_name": "Python 3 (ipykernel)",
   "language": "python",
   "name": "python3"
  },
  "language_info": {
   "codemirror_mode": {
    "name": "ipython",
    "version": 3
   },
   "file_extension": ".py",
   "mimetype": "text/x-python",
   "name": "python",
   "nbconvert_exporter": "python",
   "pygments_lexer": "ipython3",
   "version": "3.9.12"
  }
 },
 "nbformat": 4,
 "nbformat_minor": 5
}
