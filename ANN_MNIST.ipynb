{
 "cells": [
  {
   "cell_type": "code",
   "execution_count": 1,
   "id": "6901aebf-2833-4d03-a659-96cde9fd1a2f",
   "metadata": {},
   "outputs": [],
   "source": [
    "import tensorflow as tf\n",
    "import tensorflow_datasets as tfds\n",
    "import numpy as np\n",
    "import matplotlib as mpl\n",
    "import matplotlib.pyplot as plt"
   ]
  },
  {
   "cell_type": "code",
   "execution_count": 2,
   "id": "fd8ba84e-1564-4460-a5db-cd157f4456ce",
   "metadata": {},
   "outputs": [
    {
     "name": "stdout",
     "output_type": "stream",
     "text": [
      "train set =  45000\n",
      "test set =  6000\n",
      "validation set =  9000\n"
     ]
    }
   ],
   "source": [
    "(ds_test, ds_val, ds_train), ds_info = tfds.load(\n",
    "    'mnist',\n",
    "    split=['train[:10%]','train[10%:25%]','train[25%:]'],\n",
    "    shuffle_files=True,\n",
    "    as_supervised=True,\n",
    "    with_info=True,\n",
    ")\n",
    "print(\"train set = \", len(ds_train))\n",
    "print(\"test set = \", len(ds_test))\n",
    "print(\"validation set = \", len(ds_val))"
   ]
  },
  {
   "cell_type": "code",
   "execution_count": 3,
   "id": "e1e35846-a0a8-4e01-936f-8ce8057d7e2a",
   "metadata": {},
   "outputs": [
    {
     "name": "stdout",
     "output_type": "stream",
     "text": [
      "<PrefetchDataset shapes: ((None, 28, 28, 1), (None,)), types: (tf.float32, tf.int64)>\n"
     ]
    }
   ],
   "source": [
    "def normalize_img(image, label):\n",
    "  \"\"\"Normalizes images: `uint8` -> `float32`.\"\"\"\n",
    "  return tf.cast(image, tf.float32) / 255., label\n",
    "\n",
    "ds_train = ds_train.map(\n",
    "    normalize_img, num_parallel_calls=tf.data.AUTOTUNE)\n",
    "ds_train = ds_train.cache()\n",
    "ds_train = ds_train.shuffle(ds_info.splits['train'].num_examples)\n",
    "ds_train = ds_train.batch(128)\n",
    "ds_train = ds_train.prefetch(tf.data.AUTOTUNE)\n",
    "\n",
    "print(ds_train)"
   ]
  },
  {
   "cell_type": "code",
   "execution_count": 4,
   "id": "869a57c7-1c76-4b44-b2d0-edcbf90ffd8a",
   "metadata": {},
   "outputs": [],
   "source": [
    "ds_test = ds_test.map(\n",
    "    normalize_img, num_parallel_calls=tf.data.AUTOTUNE)\n",
    "ds_test = ds_test.batch(128)\n",
    "ds_test = ds_test.cache()\n",
    "ds_test = ds_test.prefetch(tf.data.AUTOTUNE)"
   ]
  },
  {
   "cell_type": "code",
   "execution_count": 5,
   "id": "8c1d6427-1351-47c4-a8d3-de0db8463adf",
   "metadata": {},
   "outputs": [],
   "source": [
    "ds_val = ds_val.map(\n",
    "    normalize_img, num_parallel_calls=tf.data.AUTOTUNE)\n",
    "ds_val = ds_val.batch(128)\n",
    "ds_val = ds_val.cache()\n",
    "ds_val = ds_val.prefetch(tf.data.AUTOTUNE)"
   ]
  },
  {
   "cell_type": "code",
   "execution_count": 6,
   "id": "f63d2171-1e63-4893-b5d1-3a81242cbb85",
   "metadata": {},
   "outputs": [
    {
     "name": "stdout",
     "output_type": "stream",
     "text": [
      "<PrefetchDataset shapes: ((None, 28, 28, 1), (None,)), types: (tf.float32, tf.int64)>\n",
      "<PrefetchDataset shapes: ((None, 28, 28, 1), (None,)), types: (tf.float32, tf.int64)>\n",
      "<PrefetchDataset shapes: ((None, 28, 28, 1), (None,)), types: (tf.float32, tf.int64)>\n"
     ]
    }
   ],
   "source": [
    "print(ds_train)\n",
    "print(ds_test)\n",
    "print(ds_val)"
   ]
  },
  {
   "cell_type": "code",
   "execution_count": 7,
   "id": "e18fc57f-ce34-43b3-8393-7359088bcf6e",
   "metadata": {},
   "outputs": [
    {
     "data": {
      "text/plain": [
       "<tensorflow.python.keras.engine.sequential.Sequential at 0x1be1acb3820>"
      ]
     },
     "execution_count": 7,
     "metadata": {},
     "output_type": "execute_result"
    }
   ],
   "source": [
    "shape = np.array([28,28,1])\n",
    "model = tf.keras.models.Sequential()\n",
    "def build(shape):\n",
    "        model.add(tf.keras.layers.Conv2D(6,4,activation = 'relu',input_shape=(shape[0],shape[1],shape[2])))\n",
    "        #model.add(tf.keras.layers.Conv2D(6,4,activation = 'relu'))\n",
    "        model.add(tf.keras.layers.Flatten())\n",
    "        model.add(tf.keras.layers.Dense(128,activation='relu'))\n",
    "        #model.add(tf.keras.layers.Dense(64))\n",
    "        model.add(tf.keras.layers.Dense(10))    \n",
    "        return model\n",
    "\n",
    "build(shape)"
   ]
  },
  {
   "cell_type": "code",
   "execution_count": 8,
   "id": "2d7efe53-90cc-4825-9b24-70155d402540",
   "metadata": {},
   "outputs": [
    {
     "name": "stdout",
     "output_type": "stream",
     "text": [
      "Epoch 1/10\n",
      "352/352 [==============================] - 9s 16ms/step - loss: 0.2753 - sparse_categorical_accuracy: 0.9194 - val_loss: 0.1353 - val_sparse_categorical_accuracy: 0.9586\n",
      "Epoch 2/10\n",
      "352/352 [==============================] - 5s 14ms/step - loss: 0.0906 - sparse_categorical_accuracy: 0.9729 - val_loss: 0.0868 - val_sparse_categorical_accuracy: 0.9738\n",
      "Epoch 3/10\n",
      "352/352 [==============================] - 5s 15ms/step - loss: 0.0599 - sparse_categorical_accuracy: 0.9818 - val_loss: 0.0775 - val_sparse_categorical_accuracy: 0.9776\n",
      "Epoch 4/10\n",
      "352/352 [==============================] - 5s 14ms/step - loss: 0.0425 - sparse_categorical_accuracy: 0.9877 - val_loss: 0.0631 - val_sparse_categorical_accuracy: 0.9814\n",
      "Epoch 5/10\n",
      "352/352 [==============================] - 5s 15ms/step - loss: 0.0311 - sparse_categorical_accuracy: 0.9906 - val_loss: 0.0756 - val_sparse_categorical_accuracy: 0.9784\n",
      "Epoch 6/10\n",
      "352/352 [==============================] - 6s 17ms/step - loss: 0.0244 - sparse_categorical_accuracy: 0.9927 - val_loss: 0.0715 - val_sparse_categorical_accuracy: 0.9802\n",
      "Epoch 7/10\n",
      "352/352 [==============================] - 6s 18ms/step - loss: 0.0168 - sparse_categorical_accuracy: 0.9952 - val_loss: 0.0628 - val_sparse_categorical_accuracy: 0.9830\n",
      "Epoch 8/10\n",
      "352/352 [==============================] - 9s 25ms/step - loss: 0.0126 - sparse_categorical_accuracy: 0.9964 - val_loss: 0.0659 - val_sparse_categorical_accuracy: 0.9823\n",
      "Epoch 9/10\n",
      "352/352 [==============================] - 5s 15ms/step - loss: 0.0098 - sparse_categorical_accuracy: 0.9971 - val_loss: 0.0644 - val_sparse_categorical_accuracy: 0.9827\n",
      "Epoch 10/10\n",
      "352/352 [==============================] - 5s 13ms/step - loss: 0.0067 - sparse_categorical_accuracy: 0.9984 - val_loss: 0.0756 - val_sparse_categorical_accuracy: 0.9819\n"
     ]
    },
    {
     "data": {
      "text/plain": [
       "<tensorflow.python.keras.callbacks.History at 0x1be1ad57340>"
      ]
     },
     "execution_count": 8,
     "metadata": {},
     "output_type": "execute_result"
    }
   ],
   "source": [
    "model.compile(\n",
    "    optimizer=tf.keras.optimizers.Adam(0.001),\n",
    "    loss=tf.keras.losses.SparseCategoricalCrossentropy(from_logits=True),\n",
    "    metrics=[tf.keras.metrics.SparseCategoricalAccuracy()],\n",
    ")\n",
    "\n",
    "model.fit(\n",
    "    ds_train,\n",
    "    epochs=10,\n",
    "    validation_data=ds_val,\n",
    ")"
   ]
  },
  {
   "cell_type": "code",
   "execution_count": 10,
   "id": "cd57aa67-163a-44ee-b069-3910c6abffcb",
   "metadata": {},
   "outputs": [
    {
     "name": "stdout",
     "output_type": "stream",
     "text": [
      "INFO:tensorflow:Assets written to: ./modelmnist\\assets\n"
     ]
    },
    {
     "name": "stderr",
     "output_type": "stream",
     "text": [
      "INFO:tensorflow:Assets written to: ./modelmnist\\assets\n"
     ]
    }
   ],
   "source": [
    "model.save('./modelmnist')"
   ]
  },
  {
   "cell_type": "code",
   "execution_count": 11,
   "id": "f078cb99-dc8b-4243-a233-24334b50a5ff",
   "metadata": {},
   "outputs": [
    {
     "name": "stdout",
     "output_type": "stream",
     "text": [
      "47/47 [==============================] - 1s 11ms/step - loss: 0.0777 - sparse_categorical_accuracy: 0.9830\n"
     ]
    },
    {
     "data": {
      "text/plain": [
       "[0.07772678881883621, 0.9829999804496765]"
      ]
     },
     "execution_count": 11,
     "metadata": {},
     "output_type": "execute_result"
    }
   ],
   "source": [
    "model.evaluate(ds_test)"
   ]
  },
  {
   "cell_type": "code",
   "execution_count": 48,
   "id": "77220063-67aa-49ba-b3bb-ffa1e6fb91f9",
   "metadata": {},
   "outputs": [],
   "source": [
    "modeltest = tf.keras.models.load_model('./modelmnist')"
   ]
  },
  {
   "cell_type": "code",
   "execution_count": 49,
   "id": "b764cdfc-636a-482d-8111-1c7f0783f020",
   "metadata": {},
   "outputs": [
    {
     "name": "stdout",
     "output_type": "stream",
     "text": [
      "47/47 [==============================] - 1s 9ms/step - loss: 0.0763 - sparse_categorical_accuracy: 0.9788\n"
     ]
    },
    {
     "data": {
      "text/plain": [
       "[0.07632710784673691, 0.9788333177566528]"
      ]
     },
     "execution_count": 49,
     "metadata": {},
     "output_type": "execute_result"
    }
   ],
   "source": [
    "modeltest.evaluate(ds_test)"
   ]
  },
  {
   "cell_type": "code",
   "execution_count": null,
   "id": "2c0334d1-7a1a-461c-8cd6-7d9aebab6c52",
   "metadata": {},
   "outputs": [],
   "source": []
  }
 ],
 "metadata": {
  "kernelspec": {
   "display_name": "Python 3 (ipykernel)",
   "language": "python",
   "name": "python3"
  },
  "language_info": {
   "codemirror_mode": {
    "name": "ipython",
    "version": 3
   },
   "file_extension": ".py",
   "mimetype": "text/x-python",
   "name": "python",
   "nbconvert_exporter": "python",
   "pygments_lexer": "ipython3",
   "version": "3.9.12"
  }
 },
 "nbformat": 4,
 "nbformat_minor": 5
}
